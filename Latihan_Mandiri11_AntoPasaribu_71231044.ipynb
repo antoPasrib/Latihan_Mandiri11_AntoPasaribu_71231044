{
 "cells": [
  {
   "cell_type": "code",
   "execution_count": null,
   "id": "dafc08fb",
   "metadata": {},
   "outputs": [],
   "source": [
    "tA = (90, 90, 90, 90)\n",
    "tB = tA[0]\n",
    "\n",
    "for i in tA:\n",
    "    if i == tB:\n",
    "        tC = (True)\n",
    "    else:\n",
    "        print(False)\n",
    "        exit()\n",
    "print(tC)"
   ]
  },
  {
   "cell_type": "code",
   "execution_count": null,
   "id": "93e572c6",
   "metadata": {},
   "outputs": [],
   "source": [
    "nim = input('Masukan Nim: ')\n",
    "nama = input('Masukan Nama: ')\n",
    "alamat = input('Masukan Alamat: ')\n",
    "print()\n",
    "\n",
    "print('Data')\n",
    "print('Nim: ', nim)\n",
    "print('Nama: ', nama)\n",
    "print('Alamat: ', alamat)\n",
    "print()\n",
    "\n",
    "tpl = tuple(nim)\n",
    "print('Nim: ', tpl)\n",
    "tpl1 = nama.split()\n",
    "tp11 = tuple(tpl1[0][1:])\n",
    "print('NAMA DEPAN: ', tp11)\n",
    "tpl2 = nama.split()\n",
    "tp12 = tpl2[::-1]\n",
    "print('NAMA TERBALIK: ', tuple(tp12))"
   ]
  },
  {
   "cell_type": "code",
   "execution_count": null,
   "id": "d805e6c6",
   "metadata": {},
   "outputs": [],
   "source": [
    "file_name = input('Masukan Nama File: ')\n",
    "domain = dict()\n",
    "lst = list()\n",
    "try:\n",
    "    handle = open(file_name)\n",
    "except:\n",
    "    print(f'File {file_name} Tidak Dapat Dibuka!')\n",
    "    exit()\n",
    "\n",
    "for line in handle:\n",
    "    kata = line.split()\n",
    "    if len(kata) < 2 or kata [0] != 'From':\n",
    "        continue\n",
    "    post = kata[5].split(':')\n",
    "    jam = post[0]\n",
    "    if jam not in domain:\n",
    "        domain[jam] = 1\n",
    "    else:\n",
    "        domain[jam] += 1\n",
    "for key, val in list(domain.items()):\n",
    "    lst.append((key, val))\n",
    "lst.sort()\n",
    "for key, val in lst:\n",
    "    print(key, val)"
   ]
  }
 ],
 "metadata": {
  "kernelspec": {
   "display_name": "Python 3 (ipykernel)",
   "language": "python",
   "name": "python3"
  },
  "language_info": {
   "codemirror_mode": {
    "name": "ipython",
    "version": 3
   },
   "file_extension": ".py",
   "mimetype": "text/x-python",
   "name": "python",
   "nbconvert_exporter": "python",
   "pygments_lexer": "ipython3",
   "version": "3.11.5"
  }
 },
 "nbformat": 4,
 "nbformat_minor": 5
}
